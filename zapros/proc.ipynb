{
 "cells": [
  {
   "cell_type": "code",
   "execution_count": 1,
   "id": "5c1b7eb7",
   "metadata": {},
   "outputs": [],
   "source": [
    "import requests\n",
    "import json\n",
    "from pprint import pprint"
   ]
  },
  {
   "cell_type": "code",
   "execution_count": 3,
   "id": "ec16f745",
   "metadata": {},
   "outputs": [],
   "source": [
    "def get_info(url, find='', key=''):\n",
    "    r = requests.get(url).json()\n",
    "    assert r, 'empty result'\n",
    "#     pprint(r)\n",
    "    result = next((p for p in r if find in p[key]), None)\n",
    "    assert result, f'not found string: {find}'\n",
    "    return result"
   ]
  },
  {
   "cell_type": "code",
   "execution_count": 4,
   "id": "f6918d5c",
   "metadata": {},
   "outputs": [],
   "source": [
    "russia = {\n",
    "    \"value\": \"2a6e07c6-cc98-11e8-bdfa-f2801f1b9f01\",\n",
    "    \"code\": \"TERR_RU\",\n",
    "    \"label\": \"Российская Федерация\",\n",
    "    \"parentUuid\": None\n",
    "}"
   ]
  },
  {
   "cell_type": "code",
   "execution_count": 5,
   "id": "fffd532f",
   "metadata": {},
   "outputs": [
    {
     "data": {
      "text/plain": [
       "{'value': '0988a60f-1c25-4be6-b8c0-123456791002',\n",
       " 'code': 'TERR_02',\n",
       " 'label': 'Республика Башкортостан',\n",
       " 'parentUuid': '0988a60f-1c25-4be6-b8c0-123456789103'}"
      ]
     },
     "execution_count": 5,
     "metadata": {},
     "output_type": "execute_result"
    }
   ],
   "source": [
    "region = get_info(\n",
    "    url='https://epp.genproc.gov.ru/o/applications/applications/getRfSubjects', \n",
    "    find='TERR_02',\n",
    "    key='code'\n",
    ")\n",
    "\n",
    "region"
   ]
  },
  {
   "cell_type": "code",
   "execution_count": 6,
   "id": "deefa3d1",
   "metadata": {},
   "outputs": [
    {
     "data": {
      "text/plain": [
       "{'value': '1a6e07c6-cc98-11e8-bdfa-f2801f1b9fd3',\n",
       " 'label': 'Физическое лицо (гражданин)',\n",
       " 'legal': True}"
      ]
     },
     "execution_count": 6,
     "metadata": {},
     "output_type": "execute_result"
    }
   ],
   "source": [
    "type_fiz = get_info(\n",
    "    url='https://epp.genproc.gov.ru/o/applications/applications/getApplicationsTypes', \n",
    "    find='Физ',\n",
    "    key='label'\n",
    ")\n",
    "\n",
    "type_fiz"
   ]
  },
  {
   "cell_type": "code",
   "execution_count": 7,
   "id": "52fed851",
   "metadata": {},
   "outputs": [
    {
     "data": {
      "text/plain": [
       "{'value': '1a6e07c6-cc98-11e8-bdfa-f2801f1b9fd2',\n",
       " 'label': 'Обращение общего характера'}"
      ]
     },
     "execution_count": 7,
     "metadata": {},
     "output_type": "execute_result"
    }
   ],
   "source": [
    "kind = get_info(\n",
    "    url='https://epp.genproc.gov.ru/o/applications/applications/getApplicationsKinds', \n",
    "    find='общего характера',\n",
    "    key='label'\n",
    ")\n",
    "\n",
    "kind"
   ]
  },
  {
   "cell_type": "code",
   "execution_count": 8,
   "id": "90b6611c",
   "metadata": {},
   "outputs": [
    {
     "data": {
      "text/plain": [
       "{'value': '1a6e07c6-cc98-11e8-bdfa-f2801f1b9f17',\n",
       " 'label': 'По вопросам охраны окружающей среды и природопользования',\n",
       " 'description': None}"
      ]
     },
     "execution_count": 8,
     "metadata": {},
     "output_type": "execute_result"
    }
   ],
   "source": [
    "subject = get_info(\n",
    "    url='https://epp.genproc.gov.ru/o/applications/applications/getMessageSubjects', \n",
    "    find='окружающей среды',\n",
    "    key='label'\n",
    ")\n",
    "\n",
    "subject"
   ]
  },
  {
   "cell_type": "code",
   "execution_count": 66,
   "id": "d79c894b",
   "metadata": {},
   "outputs": [],
   "source": [
    "r = requests.get('https://epp.genproc.gov.ru/o/captcha/image/base64')\n",
    "captcha_id = r.headers.get('X-CAPTCHA-ID')\n",
    "image_base64 = r.content"
   ]
  },
  {
   "cell_type": "code",
   "execution_count": 67,
   "id": "17458144",
   "metadata": {},
   "outputs": [
    {
     "data": {
      "image/png": "[encoded data removed]",
      "text/plain": [
       "<IPython.core.display.Image object>"
      ]
     },
     "execution_count": 67,
     "metadata": {},
     "output_type": "execute_result"
    }
   ],
   "source": [
    "from IPython import display\n",
    "from base64 import b64decode\n",
    "\n",
    "display.Image(b64decode(image_base64))"
   ]
  },
  {
   "cell_type": "code",
   "execution_count": 68,
   "id": "1927e602",
   "metadata": {},
   "outputs": [],
   "source": [
    "files = {\n",
    "    'form1': (None, '{\"appealType\":\"1a6e07c6-cc98-11e8-bdfa-f2801f1b9fd3\",\"appealKind\":\"1a6e07c6-cc98-11e8-bdfa-f2801f1b9fd2\",\"lastName\":\"Тест\",\"firstName\":\"Тест\",\"patronymic\":\"Тест\",\"organization\":\"\",\"representativeFio\":\"\",\"outgoingDocumentNumber\":\"\",\"selectedRegions\":[{\"selectedRegion\":\"fbc0a082-441e-4844-9f2b-e4baf36f0dd7\",\"selectedSubRegion\":\"75b4fe98-24d9-47dd-9469-4427880e152b\"}]}'),\n",
    "    'form2': (None, '{\"email\":\"test@test.ru\",\"phone\":\"+7 900 800 55 35\",\"address\":\"Пушкина 101\"}'),\n",
    "    'form3': (None, '{\"subjectType\":\"1a6e07c6-cc98-11e8-bdfa-f2801f1b9f01\",\"text\":\"Тест\"}'),\n",
    "    'proc': (None, '{\"level3\":\"1bc584a2-b0e0-4647-b69e-5c18b8b24da2\",\"level2\":\"0988a60f-1c25-4be6-b8c0-123456789473\",\"level1\":\"a8f5b01a-0fd8-4989-9249-42851f189878\"}'),\n",
    "    'captchaAnswer': (None, \"12578\"),\n",
    "    'captchaId': (None, captcha_id),\n",
    "    'timezone': (None, \"5\"),\n",
    "    'externalUrl': (None, \"http://epp.genproc.gov.ru/web/proc_02/internet-reception/personal-receptionrequest\"),\n",
    "    'siteId': (None, \"2699603\"),\n",
    "    'p_auth': (None, \"WOFsG1RJ\")\n",
    "}\n",
    "headers={\n",
    "    'Cookie': 'COOKIE_SUPPORT=true; EPPSID=9GGJEpMhydcQ5ZwkWqLkq4lWL6Qb8IXhBLa5_xRK.ext-liferay-01; GUEST_LANGUAGE_ID=ru_RU; sp_test=1; _ym_uid=164464938544501298; _ym_d=1644649385; _ym_isad=2; LFR_SESSION_STATE_20104=1644651186036; sputnik_session=1644652485745|0'\n",
    "}"
   ]
  },
  {
   "cell_type": "code",
   "execution_count": 69,
   "id": "66c7c713",
   "metadata": {},
   "outputs": [
    {
     "data": {
      "text/plain": [
       "{'requestUid': '5c68efb6-ff3d-4060-839b-4271f4c65358',\n",
       " 'targetProcUuid': '1bc584a2-b0e0-4647-b69e-5c18b8b24da2',\n",
       " 'targetProcTitle': 'Прокуратура Республики Башкортостан',\n",
       " 'success': True,\n",
       " 'error': None}"
      ]
     },
     "execution_count": 69,
     "metadata": {},
     "output_type": "execute_result"
    }
   ],
   "source": [
    "r = requests.post('https://epp.genproc.gov.ru/o/applications/applications/sendForm', files=files, headers=headers)\n",
    "r.json()"
   ]
  },
  {
   "cell_type": "code",
   "execution_count": null,
   "id": "7b4c377b",
   "metadata": {},
   "outputs": [],
   "source": []
  },
  {
   "cell_type": "code",
   "execution_count": null,
   "id": "9d2c5c65",
   "metadata": {},
   "outputs": [],
   "source": []
  }
 ],
 "metadata": {
  "kernelspec": {
   "display_name": "Python 3",
   "language": "python",
   "name": "python3"
  },
  "language_info": {
   "codemirror_mode": {
    "name": "ipython",
    "version": 3
   },
   "file_extension": ".py",
   "mimetype": "text/x-python",
   "name": "python",
   "nbconvert_exporter": "python",
   "pygments_lexer": "ipython3",
   "version": "3.8.8"
  }
 },
 "nbformat": 4,
 "nbformat_minor": 5
}
